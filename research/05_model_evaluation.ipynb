{
 "cells": [
  {
   "cell_type": "code",
   "execution_count": 1,
   "metadata": {},
   "outputs": [],
   "source": [
    "import os"
   ]
  },
  {
   "cell_type": "code",
   "execution_count": 4,
   "metadata": {},
   "outputs": [
    {
     "data": {
      "text/plain": [
       "'/Users/prajwalamin/Documents/Development/MLOps'"
      ]
     },
     "execution_count": 4,
     "metadata": {},
     "output_type": "execute_result"
    }
   ],
   "source": [
    "%pwd"
   ]
  },
  {
   "cell_type": "code",
   "execution_count": 3,
   "metadata": {},
   "outputs": [],
   "source": [
    "os.chdir(\"../\")"
   ]
  },
  {
   "cell_type": "code",
   "execution_count": 11,
   "metadata": {},
   "outputs": [],
   "source": [
    "os.environ[\"MLFLOW_TRACKING_URI\"]=\"https://dagshub.com/Prajwalamin/end-to-end-mlflow.mlflow\"\n",
    "os.environ[\"MLFLOW_TRACKING_USERNAME\"]=\"Prajwalamin\"\n",
    "os.environ[\"MLFLOW_TRACKING_PASSWORD\"]=\"a52c50c620c129355bb7fb130b575e0256c8c5be\""
   ]
  },
  {
   "cell_type": "code",
   "execution_count": 12,
   "metadata": {},
   "outputs": [],
   "source": [
    "from dataclasses import dataclass\n",
    "from pathlib import Path\n",
    "\n",
    "@dataclass(frozen=True)\n",
    "class ModelEvaluationConfig:\n",
    "    root_dir: Path\n",
    "    test_data_path: Path\n",
    "    model_path: Path\n",
    "    all_params: dict\n",
    "    metric_file_name: Path \n",
    "    target_column: str\n",
    "    mlflow_uri: str"
   ]
  },
  {
   "cell_type": "code",
   "execution_count": 13,
   "metadata": {},
   "outputs": [],
   "source": [
    "from src.mlProject.constants import *\n",
    "from src.mlProject.utils.common import read_yaml, create_directories, save_json"
   ]
  },
  {
   "cell_type": "code",
   "execution_count": 14,
   "metadata": {},
   "outputs": [],
   "source": [
    "class ConfigurationManager:\n",
    "    def __init__(\n",
    "        self,\n",
    "        config_filepath = CONFIG_FILE_PATH,\n",
    "        params_filepath = PARAMS_FILE_PATH,\n",
    "        schema_filepath = SCHEMA_FILE_PATH):\n",
    "\n",
    "        self.config = read_yaml(config_filepath)\n",
    "        self.params = read_yaml(params_filepath)\n",
    "        self.schema = read_yaml(schema_filepath)\n",
    "\n",
    "        create_directories([self.config.artifacts_root])\n",
    "\n",
    "\n",
    "    def get_model_evaluation_config(self) -> ModelEvaluationConfig:\n",
    "        config = self.config.model_evaluation\n",
    "        params = self.params.ElasticNet\n",
    "        schema = self.schema.TARGET_COLUMN\n",
    "\n",
    "        create_directories([config.root_dir])\n",
    "\n",
    "        model_evaluation_config = ModelEvaluationConfig(\n",
    "            root_dir = config.root_dir,\n",
    "            test_data_path = config.test_data_path,\n",
    "            model_path = config.model_path,\n",
    "            all_params = params,\n",
    "            metric_file_name = config.metric_file_name,\n",
    "            target_column = schema.name,\n",
    "            mlflow_uri = \"https://dagshub.com/Prajwalamin/end-to-end-mlflow.mlflow\"\n",
    "        )\n",
    "\n",
    "        return model_evaluation_config"
   ]
  },
  {
   "cell_type": "code",
   "execution_count": 15,
   "metadata": {},
   "outputs": [
    {
     "name": "stdout",
     "output_type": "stream",
     "text": [
      "Requirement already satisfied: mlflow in /Users/prajwalamin/opt/anaconda3/lib/python3.9/site-packages (2.13.0)\n",
      "Requirement already satisfied: Flask<4 in /Users/prajwalamin/opt/anaconda3/lib/python3.9/site-packages (from mlflow) (2.1.3)\n",
      "Requirement already satisfied: alembic!=1.10.0,<2 in /Users/prajwalamin/opt/anaconda3/lib/python3.9/site-packages (from mlflow) (1.8.1)\n",
      "Requirement already satisfied: cachetools<6,>=5.0.0 in /Users/prajwalamin/opt/anaconda3/lib/python3.9/site-packages (from mlflow) (5.3.0)\n",
      "Requirement already satisfied: click<9,>=7.0 in /Users/prajwalamin/opt/anaconda3/lib/python3.9/site-packages (from mlflow) (8.0.4)\n",
      "Requirement already satisfied: cloudpickle<4 in /Users/prajwalamin/opt/anaconda3/lib/python3.9/site-packages (from mlflow) (2.0.0)\n",
      "Requirement already satisfied: docker<8,>=4.0.0 in /Users/prajwalamin/opt/anaconda3/lib/python3.9/site-packages (from mlflow) (6.1.3)\n",
      "Requirement already satisfied: entrypoints<1 in /Users/prajwalamin/opt/anaconda3/lib/python3.9/site-packages (from mlflow) (0.4)\n",
      "Requirement already satisfied: gitpython<4,>=3.1.9 in /Users/prajwalamin/opt/anaconda3/lib/python3.9/site-packages (from mlflow) (3.1.43)\n",
      "Requirement already satisfied: graphene<4 in /Users/prajwalamin/opt/anaconda3/lib/python3.9/site-packages (from mlflow) (3.3)\n",
      "Requirement already satisfied: importlib-metadata!=4.7.0,<8,>=3.7.0 in /Users/prajwalamin/opt/anaconda3/lib/python3.9/site-packages (from mlflow) (7.0.0)\n",
      "Requirement already satisfied: markdown<4,>=3.3 in /Users/prajwalamin/opt/anaconda3/lib/python3.9/site-packages (from mlflow) (3.3.4)\n",
      "Requirement already satisfied: matplotlib<4 in /Users/prajwalamin/opt/anaconda3/lib/python3.9/site-packages (from mlflow) (3.5.2)\n",
      "Requirement already satisfied: numpy<2 in /Users/prajwalamin/opt/anaconda3/lib/python3.9/site-packages (from mlflow) (1.21.5)\n",
      "Requirement already satisfied: opentelemetry-api<3,>=1.0.0 in /Users/prajwalamin/opt/anaconda3/lib/python3.9/site-packages (from mlflow) (1.24.0)\n",
      "Requirement already satisfied: opentelemetry-sdk<3,>=1.0.0 in /Users/prajwalamin/opt/anaconda3/lib/python3.9/site-packages (from mlflow) (1.24.0)\n",
      "Requirement already satisfied: packaging<25 in /Users/prajwalamin/opt/anaconda3/lib/python3.9/site-packages (from mlflow) (23.2)\n",
      "Requirement already satisfied: pandas<3 in /Users/prajwalamin/opt/anaconda3/lib/python3.9/site-packages (from mlflow) (1.4.4)\n",
      "Requirement already satisfied: protobuf<5,>=3.12.0 in /Users/prajwalamin/opt/anaconda3/lib/python3.9/site-packages (from mlflow) (3.20.1)\n",
      "Requirement already satisfied: pyarrow<16,>=4.0.0 in /Users/prajwalamin/opt/anaconda3/lib/python3.9/site-packages (from mlflow) (15.0.2)\n",
      "Requirement already satisfied: pytz<2025 in /Users/prajwalamin/opt/anaconda3/lib/python3.9/site-packages (from mlflow) (2022.1)\n",
      "Requirement already satisfied: pyyaml<7,>=5.1 in /Users/prajwalamin/opt/anaconda3/lib/python3.9/site-packages (from mlflow) (6.0.1)\n",
      "Requirement already satisfied: querystring-parser<2 in /Users/prajwalamin/opt/anaconda3/lib/python3.9/site-packages (from mlflow) (1.2.4)\n",
      "Requirement already satisfied: requests<3,>=2.17.3 in /Users/prajwalamin/opt/anaconda3/lib/python3.9/site-packages (from mlflow) (2.28.1)\n",
      "Requirement already satisfied: scikit-learn<2 in /Users/prajwalamin/opt/anaconda3/lib/python3.9/site-packages (from mlflow) (1.0.2)\n",
      "Requirement already satisfied: scipy<2 in /Users/prajwalamin/opt/anaconda3/lib/python3.9/site-packages (from mlflow) (1.7.3)\n",
      "Requirement already satisfied: sqlalchemy<3,>=1.4.0 in /Users/prajwalamin/opt/anaconda3/lib/python3.9/site-packages (from mlflow) (1.4.39)\n",
      "Requirement already satisfied: sqlparse<1,>=0.4.0 in /Users/prajwalamin/opt/anaconda3/lib/python3.9/site-packages (from mlflow) (0.5.0)\n",
      "Requirement already satisfied: Jinja2<4,>=2.11 in /Users/prajwalamin/opt/anaconda3/lib/python3.9/site-packages (from mlflow) (3.1.2)\n",
      "Requirement already satisfied: gunicorn<23 in /Users/prajwalamin/opt/anaconda3/lib/python3.9/site-packages (from mlflow) (22.0.0)\n",
      "Requirement already satisfied: Mako in /Users/prajwalamin/opt/anaconda3/lib/python3.9/site-packages (from alembic!=1.10.0,<2->mlflow) (1.2.4)\n",
      "Requirement already satisfied: urllib3>=1.26.0 in /Users/prajwalamin/opt/anaconda3/lib/python3.9/site-packages (from docker<8,>=4.0.0->mlflow) (1.26.11)\n",
      "Requirement already satisfied: websocket-client>=0.32.0 in /Users/prajwalamin/opt/anaconda3/lib/python3.9/site-packages (from docker<8,>=4.0.0->mlflow) (0.58.0)\n",
      "Requirement already satisfied: Werkzeug>=2.0 in /Users/prajwalamin/opt/anaconda3/lib/python3.9/site-packages (from Flask<4->mlflow) (2.0.3)\n",
      "Requirement already satisfied: itsdangerous>=2.0 in /Users/prajwalamin/opt/anaconda3/lib/python3.9/site-packages (from Flask<4->mlflow) (2.0.1)\n",
      "Requirement already satisfied: gitdb<5,>=4.0.1 in /Users/prajwalamin/opt/anaconda3/lib/python3.9/site-packages (from gitpython<4,>=3.1.9->mlflow) (4.0.11)\n",
      "Requirement already satisfied: graphql-core<3.3,>=3.1 in /Users/prajwalamin/opt/anaconda3/lib/python3.9/site-packages (from graphene<4->mlflow) (3.2.3)\n",
      "Requirement already satisfied: graphql-relay<3.3,>=3.1 in /Users/prajwalamin/opt/anaconda3/lib/python3.9/site-packages (from graphene<4->mlflow) (3.2.0)\n",
      "Requirement already satisfied: aniso8601<10,>=8 in /Users/prajwalamin/opt/anaconda3/lib/python3.9/site-packages (from graphene<4->mlflow) (9.0.1)\n",
      "Requirement already satisfied: zipp>=0.5 in /Users/prajwalamin/opt/anaconda3/lib/python3.9/site-packages (from importlib-metadata!=4.7.0,<8,>=3.7.0->mlflow) (3.8.0)\n",
      "Requirement already satisfied: MarkupSafe>=2.0 in /Users/prajwalamin/opt/anaconda3/lib/python3.9/site-packages (from Jinja2<4,>=2.11->mlflow) (2.0.1)\n",
      "Requirement already satisfied: cycler>=0.10 in /Users/prajwalamin/opt/anaconda3/lib/python3.9/site-packages (from matplotlib<4->mlflow) (0.11.0)\n",
      "Requirement already satisfied: fonttools>=4.22.0 in /Users/prajwalamin/opt/anaconda3/lib/python3.9/site-packages (from matplotlib<4->mlflow) (4.25.0)\n",
      "Requirement already satisfied: kiwisolver>=1.0.1 in /Users/prajwalamin/opt/anaconda3/lib/python3.9/site-packages (from matplotlib<4->mlflow) (1.4.2)\n",
      "Requirement already satisfied: pillow>=6.2.0 in /Users/prajwalamin/opt/anaconda3/lib/python3.9/site-packages (from matplotlib<4->mlflow) (9.2.0)\n",
      "Requirement already satisfied: pyparsing>=2.2.1 in /Users/prajwalamin/opt/anaconda3/lib/python3.9/site-packages (from matplotlib<4->mlflow) (2.4.7)\n",
      "Requirement already satisfied: python-dateutil>=2.7 in /Users/prajwalamin/opt/anaconda3/lib/python3.9/site-packages (from matplotlib<4->mlflow) (2.8.2)\n",
      "Requirement already satisfied: deprecated>=1.2.6 in /Users/prajwalamin/opt/anaconda3/lib/python3.9/site-packages (from opentelemetry-api<3,>=1.0.0->mlflow) (1.2.14)\n",
      "Requirement already satisfied: opentelemetry-semantic-conventions==0.45b0 in /Users/prajwalamin/opt/anaconda3/lib/python3.9/site-packages (from opentelemetry-sdk<3,>=1.0.0->mlflow) (0.45b0)\n",
      "Requirement already satisfied: typing-extensions>=3.7.4 in /Users/prajwalamin/opt/anaconda3/lib/python3.9/site-packages (from opentelemetry-sdk<3,>=1.0.0->mlflow) (4.11.0)\n",
      "Requirement already satisfied: six in /Users/prajwalamin/opt/anaconda3/lib/python3.9/site-packages (from querystring-parser<2->mlflow) (1.16.0)\n",
      "Requirement already satisfied: charset-normalizer<3,>=2 in /Users/prajwalamin/opt/anaconda3/lib/python3.9/site-packages (from requests<3,>=2.17.3->mlflow) (2.0.4)\n",
      "Requirement already satisfied: idna<4,>=2.5 in /Users/prajwalamin/opt/anaconda3/lib/python3.9/site-packages (from requests<3,>=2.17.3->mlflow) (3.3)\n",
      "Requirement already satisfied: certifi>=2017.4.17 in /Users/prajwalamin/opt/anaconda3/lib/python3.9/site-packages (from requests<3,>=2.17.3->mlflow) (2024.2.2)\n",
      "Requirement already satisfied: joblib>=0.11 in /Users/prajwalamin/opt/anaconda3/lib/python3.9/site-packages (from scikit-learn<2->mlflow) (1.2.0)\n",
      "Requirement already satisfied: threadpoolctl>=2.0.0 in /Users/prajwalamin/opt/anaconda3/lib/python3.9/site-packages (from scikit-learn<2->mlflow) (2.2.0)\n",
      "Requirement already satisfied: greenlet!=0.4.17 in /Users/prajwalamin/opt/anaconda3/lib/python3.9/site-packages (from sqlalchemy<3,>=1.4.0->mlflow) (1.1.1)\n",
      "Requirement already satisfied: wrapt<2,>=1.10 in /Users/prajwalamin/opt/anaconda3/lib/python3.9/site-packages (from deprecated>=1.2.6->opentelemetry-api<3,>=1.0.0->mlflow) (1.14.1)\n",
      "Requirement already satisfied: smmap<6,>=3.0.1 in /Users/prajwalamin/opt/anaconda3/lib/python3.9/site-packages (from gitdb<5,>=4.0.1->gitpython<4,>=3.1.9->mlflow) (5.0.1)\n",
      "Note: you may need to restart the kernel to use updated packages.\n"
     ]
    }
   ],
   "source": [
    "pip install mlflow"
   ]
  },
  {
   "cell_type": "code",
   "execution_count": 16,
   "metadata": {},
   "outputs": [],
   "source": [
    "import os\n",
    "import pandas as pd\n",
    "from sklearn.metrics import mean_squared_error, mean_absolute_error, r2_score\n",
    "from urllib.parse import urlparse\n",
    "import mlflow\n",
    "import mlflow.sklearn\n",
    "import numpy as np\n",
    "import joblib"
   ]
  },
  {
   "cell_type": "code",
   "execution_count": 17,
   "metadata": {},
   "outputs": [],
   "source": [
    "class ModelEvaluation:\n",
    "    def __init__(self, config: ModelEvaluationConfig):\n",
    "        self.config = config\n",
    "\n",
    "    \n",
    "    def eval_metrics(self,actual, pred):\n",
    "        rmse = np.sqrt(mean_squared_error(actual, pred))\n",
    "        mae = mean_absolute_error(actual, pred)\n",
    "        r2 = r2_score(actual, pred)\n",
    "        return rmse, mae, r2\n",
    "    \n",
    "\n",
    "\n",
    "    def log_into_mlflow(self):\n",
    "\n",
    "        test_data = pd.read_csv(self.config.test_data_path)\n",
    "        model = joblib.load(self.config.model_path)\n",
    "\n",
    "        test_x = test_data.drop([self.config.target_column], axis=1)\n",
    "        test_y = test_data[[self.config.target_column]]\n",
    "\n",
    "\n",
    "        mlflow.set_registry_uri(self.config.mlflow_uri)\n",
    "        tracking_url_type_store = urlparse(mlflow.get_tracking_uri()).scheme\n",
    "\n",
    "\n",
    "        with mlflow.start_run():\n",
    "\n",
    "            predicted_qualities = model.predict(test_x)\n",
    "\n",
    "            (rmse, mae, r2) = self.eval_metrics(test_y, predicted_qualities)\n",
    "            \n",
    "            # Saving metrics as local\n",
    "            scores = {\"rmse\": rmse, \"mae\": mae, \"r2\": r2}\n",
    "            save_json(path=Path(self.config.metric_file_name), data=scores)\n",
    "\n",
    "            mlflow.log_params(self.config.all_params)\n",
    "\n",
    "            mlflow.log_metric(\"rmse\", rmse)\n",
    "            mlflow.log_metric(\"r2\", r2)\n",
    "            mlflow.log_metric(\"mae\", mae)\n",
    "\n",
    "\n",
    "            # Model registry does not work with file store\n",
    "            if tracking_url_type_store != \"file\":\n",
    "\n",
    "                # Register the model\n",
    "                # There are other ways to use the Model Registry, which depends on the use case,\n",
    "                # please refer to the doc for more information:\n",
    "                # https://mlflow.org/docs/latest/model-registry.html#api-workflow\n",
    "                mlflow.sklearn.log_model(model, \"model\", registered_model_name=\"ElasticnetModel\")\n",
    "            else:\n",
    "                mlflow.sklearn.log_model(model, \"model\")\n",
    "\n",
    "    \n"
   ]
  },
  {
   "cell_type": "code",
   "execution_count": 19,
   "metadata": {},
   "outputs": [
    {
     "name": "stdout",
     "output_type": "stream",
     "text": [
      "[2024-05-20 19:46:07,601: INFO: common: yaml file: config/config.yaml loaded successfully]\n",
      "[2024-05-20 19:46:07,603: INFO: common: yaml file: params.yaml loaded successfully]\n",
      "[2024-05-20 19:46:07,606: INFO: common: yaml file: schema.yaml loaded successfully]\n",
      "[2024-05-20 19:46:07,607: INFO: common: created directory at: artifacts]\n",
      "[2024-05-20 19:46:07,608: INFO: common: created directory at: artifacts/model_evaluation]\n"
     ]
    },
    {
     "name": "stderr",
     "output_type": "stream",
     "text": [
      "/Users/prajwalamin/opt/anaconda3/lib/python3.9/site-packages/sklearn/base.py:329: UserWarning: Trying to unpickle estimator ElasticNet from version 1.4.2 when using version 1.0.2. This might lead to breaking code or invalid results. Use at your own risk. For more info please refer to:\n",
      "https://scikit-learn.org/stable/modules/model_persistence.html#security-maintainability-limitations\n",
      "  warnings.warn(\n"
     ]
    },
    {
     "name": "stdout",
     "output_type": "stream",
     "text": [
      "[2024-05-20 19:46:07,934: INFO: common: json file saved at: artifacts/model_evaluation/metrics.json]\n"
     ]
    },
    {
     "name": "stderr",
     "output_type": "stream",
     "text": [
      "Registered model 'ElasticnetModel' already exists. Creating a new version of this model...\n",
      "2024/05/20 19:46:19 INFO mlflow.store.model_registry.abstract_store: Waiting up to 300 seconds for model version to finish creation. Model name: ElasticnetModel, version 2\n",
      "Created version '2' of model 'ElasticnetModel'.\n"
     ]
    }
   ],
   "source": [
    "try:\n",
    "    config = ConfigurationManager()\n",
    "    model_evaluation_config = config.get_model_evaluation_config()\n",
    "    model_evaluation_config = ModelEvaluation(config = model_evaluation_config)\n",
    "    model_evaluation_config.log_into_mlflow()\n",
    "except Exception as e:\n",
    "    raise e"
   ]
  },
  {
   "cell_type": "code",
   "execution_count": null,
   "metadata": {},
   "outputs": [],
   "source": []
  }
 ],
 "metadata": {
  "kernelspec": {
   "display_name": "Python (myenv)",
   "language": "python",
   "name": "mlflow"
  },
  "language_info": {
   "codemirror_mode": {
    "name": "ipython",
    "version": 3
   },
   "file_extension": ".py",
   "mimetype": "text/x-python",
   "name": "python",
   "nbconvert_exporter": "python",
   "pygments_lexer": "ipython3",
   "version": "3.9.13"
  }
 },
 "nbformat": 4,
 "nbformat_minor": 2
}
